{
 "cells": [
  {
   "cell_type": "code",
   "execution_count": 2,
   "metadata": {},
   "outputs": [
    {
     "name": "stdout",
     "output_type": "stream",
     "text": [
      "4 X 4 =\n",
      "16\n",
      "your input is 16\n",
      "correct answer!\n",
      "8 X 7 =\n",
      "56\n",
      "your input is 56\n",
      "correct answer!\n",
      "9 X 1 =\n",
      "9\n",
      "your input is 9\n",
      "correct answer!\n",
      "4 X 4 =\n",
      "16\n",
      "your input is 16\n",
      "correct answer!\n",
      "6 X 4 =\n",
      "24\n",
      "your input is 24\n",
      "correct answer!\n",
      "6 X 8 =\n",
      "48\n",
      "your input is 48\n",
      "correct answer!\n",
      "7 X 6 =\n",
      "42\n",
      "your input is 42\n",
      "correct answer!\n",
      "4 X 2 =\n",
      "8\n",
      "your input is 8\n",
      "correct answer!\n",
      "3 X 8 =\n",
      "24\n",
      "your input is 24\n",
      "correct answer!\n",
      "8 X 3 =\n",
      "24\n",
      "your input is 24\n",
      "correct answer!\n",
      "10 out of 10 is correct\n"
     ]
    }
   ],
   "source": [
    "import random\n",
    "import subprocess\n",
    "\n",
    "succ=0\n",
    "for k in range (1,11):\n",
    "    i = random.randint(2, 9)\n",
    "    j = random.randint(1, 9)\n",
    "    print(i,\"X\", j, \"=\")\n",
    "    x=input()\n",
    "    print (\"your input is \"+x)\n",
    "    if int(x)==i*j:\n",
    "        succ=succ+1\n",
    "        print('correct answer!')\n",
    "    else:\n",
    "        print('wrong answer!')\n",
    "print (succ, 'out of 10 is correct')"
   ]
  },
  {
   "cell_type": "code",
   "execution_count": null,
   "metadata": {},
   "outputs": [],
   "source": []
  }
 ],
 "metadata": {
  "kernelspec": {
   "display_name": "Python 3",
   "language": "python",
   "name": "python3"
  },
  "language_info": {
   "codemirror_mode": {
    "name": "ipython",
    "version": 3
   },
   "file_extension": ".py",
   "mimetype": "text/x-python",
   "name": "python",
   "nbconvert_exporter": "python",
   "pygments_lexer": "ipython3",
   "version": "3.7.6"
  }
 },
 "nbformat": 4,
 "nbformat_minor": 4
}
