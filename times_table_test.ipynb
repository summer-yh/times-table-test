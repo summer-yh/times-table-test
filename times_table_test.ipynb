{
 "cells": [
  {
   "cell_type": "code",
   "execution_count": null,
   "metadata": {},
   "outputs": [
    {
     "name": "stdout",
     "output_type": "stream",
     "text": [
      "4 X 1 =\n",
      "4\n",
      "your input is 4\n",
      "correct answer! You are doing a wonderful job! love heart\n",
      "5 X 9 =\n",
      "45\n",
      "your input is 45\n",
      "correct answer! You are doing a wonderful job! love heart\n",
      "8 X 2 =\n",
      "16\n",
      "your input is 16\n",
      "correct answer! You are doing a wonderful job! love heart\n",
      "2 X 8 =\n",
      "16\n",
      "your input is 16\n",
      "correct answer! You are doing a wonderful job! love heart\n",
      "9 X 6 =\n",
      "54\n",
      "your input is 54\n",
      "correct answer! You are doing a wonderful job! love heart\n",
      "7 X 3 =\n"
     ]
    }
   ],
   "source": [
    "import random\n",
    "import subprocess\n",
    "\n",
    "for k in range (1,11):\n",
    "    succ=0\n",
    "    i = random.randint(2, 9)\n",
    "    j = random.randint(1, 9)\n",
    "    print(i,\"X\", j, \"=\")\n",
    "    x=input()\n",
    "    print (\"your input is \"+x)\n",
    "    if int(x)==i*j:\n",
    "        succ = succ+1 \n",
    "        print(\"correct answer! You are doing a wonderful job!keep it up!\")\n",
    "    else:\n",
    "        subprocess.call([\"afplay\",\"56724927.mp3\"])\n",
    "print (succ, \"out of 10 is correct\")"
   ]
  },
  {
   "cell_type": "code",
   "execution_count": null,
   "metadata": {},
   "outputs": [],
   "source": []
  }
 ],
 "metadata": {
  "kernelspec": {
   "display_name": "Python 3",
   "language": "python",
   "name": "python3"
  },
  "language_info": {
   "codemirror_mode": {
    "name": "ipython",
    "version": 3
   },
   "file_extension": ".py",
   "mimetype": "text/x-python",
   "name": "python",
   "nbconvert_exporter": "python",
   "pygments_lexer": "ipython3",
   "version": "3.7.6"
  }
 },
 "nbformat": 4,
 "nbformat_minor": 4
}
