{
 "cells": [
  {
   "cell_type": "code",
   "execution_count": null,
   "metadata": {},
   "outputs": [
    {
     "name": "stdout",
     "output_type": "stream",
     "text": [
      "933 + 647 =\n",
      "1680\n",
      "you typed in 1680\n",
      "your answer is wrong.bad job!ppppthththterrr!!!!!!\n",
      "380 + 869 =\n"
     ]
    }
   ],
   "source": [
    "import random\n",
    "\n",
    "for i in range (1,11): \n",
    "    i=random.randint(1,999)\n",
    "    j=random.randint(1,999)\n",
    "    print(i,\"+\",j,\"=\")\n",
    "    S=input()\n",
    "    print(\"you typed in \"+S)\n",
    "    if int(S)==i+j:\n",
    "        print(\"wonderful job!your answer is correct.You are an angel from above!\")\n",
    "    else:\n",
    "        print(\"your answer is wrong.bad job!ppppthththterrr!!!!!!\")"
   ]
  },
  {
   "cell_type": "code",
   "execution_count": null,
   "metadata": {},
   "outputs": [],
   "source": []
  },
  {
   "cell_type": "code",
   "execution_count": null,
   "metadata": {},
   "outputs": [],
   "source": []
  },
  {
   "cell_type": "code",
   "execution_count": null,
   "metadata": {},
   "outputs": [],
   "source": []
  }
 ],
 "metadata": {
  "kernelspec": {
   "display_name": "Python 3",
   "language": "python",
   "name": "python3"
  },
  "language_info": {
   "codemirror_mode": {
    "name": "ipython",
    "version": 3
   },
   "file_extension": ".py",
   "mimetype": "text/x-python",
   "name": "python",
   "nbconvert_exporter": "python",
   "pygments_lexer": "ipython3",
   "version": "3.7.6"
  }
 },
 "nbformat": 4,
 "nbformat_minor": 4
}
